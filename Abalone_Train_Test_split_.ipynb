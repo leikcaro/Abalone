{
  "nbformat": 4,
  "nbformat_minor": 0,
  "metadata": {
    "colab": {
      "name": "Abalone Train-Test split .ipynb",
      "provenance": [],
      "collapsed_sections": [
        "mhZbKn7f83b1"
      ]
    },
    "kernelspec": {
      "name": "python3",
      "display_name": "Python 3"
    },
    "language_info": {
      "name": "python"
    }
  },
  "cells": [
    {
      "cell_type": "markdown",
      "source": [
        "#Abalone\n",
        "https://archive.ics.uci.edu/ml/datasets/abalone\n",
        "\n",
        "Given is the attribute name, attribute type, the measurement unit and a brief description. The number of rings is the value to predict: either as a continuous value or as a classification problem.\n",
        "\n",
        "\n",
        "Name / Data Type / Measurement Unit / Description\n",
        "-----------------------------\n",
        "**Sex / nominal / -- / M, F, and I (infant)**\n",
        "\n",
        "Length / continuous / mm / Longest shell measurement\n",
        "\n",
        "Diameter / continuous / mm / perpendicular to length\n",
        "\n",
        "Height / continuous / mm / with meat in shell\n",
        "\n",
        "Whole weight / continuous / grams / whole abalone\n",
        "\n",
        "Shucked weight / continuous / grams / weight of meat\n",
        "\n",
        "Viscera weight / continuous / grams / gut weight (after bleeding)\n",
        "\n",
        "Shell weight / continuous / grams / after being dried\n",
        "\n",
        "**Rings / integer / -- / +1.5 gives the age in years**\n",
        "\n"
      ],
      "metadata": {
        "id": "V6mrCA0Libti"
      }
    },
    {
      "cell_type": "markdown",
      "source": [
        "#Importacicon y Limpieza de Datos"
      ],
      "metadata": {
        "id": "mhZbKn7f83b1"
      }
    },
    {
      "cell_type": "code",
      "execution_count": null,
      "metadata": {
        "id": "SzDOoYQWeyt-"
      },
      "outputs": [],
      "source": [
        "import pandas as pd\n",
        "import numpy as np\n",
        "import matplotlib.pyplot as plt\n",
        "from sklearn import neighbors\n",
        "\n"
      ]
    },
    {
      "cell_type": "code",
      "source": [
        "from google.colab import drive\n",
        "drive.mount('/content/drive')\n",
        "\n",
        "filename = '/content/drive/MyDrive/Coding Dojo/Semana 5/abalone.csv'\n",
        "df = pd.read_csv(filename)\n",
        "df.head()\n"
      ],
      "metadata": {
        "colab": {
          "base_uri": "https://localhost:8080/"
        },
        "id": "timJ5GKJfHWk",
        "outputId": "446a578d-3ee3-4468-b7ed-15c329adee6b"
      },
      "execution_count": null,
      "outputs": [
        {
          "output_type": "stream",
          "name": "stdout",
          "text": [
            "Drive already mounted at /content/drive; to attempt to forcibly remount, call drive.mount(\"/content/drive\", force_remount=True).\n"
          ]
        },
        {
          "output_type": "execute_result",
          "data": {
            "text/plain": [
              "  Sex  Lenght  Diameter  Height  Whole_weight  Shucked_weight  Viscera_weight  \\\n",
              "0   M   0.455     0.365   0.095        0.5140          0.2245          0.1010   \n",
              "1   M   0.350     0.265   0.090        0.2255          0.0995          0.0485   \n",
              "2   F   0.530     0.420   0.135        0.6770          0.2565          0.1415   \n",
              "3   M   0.440     0.365   0.125        0.5160          0.2155          0.1140   \n",
              "4   I   0.330     0.255   0.080        0.2050          0.0895          0.0395   \n",
              "\n",
              "   Shell  Rings  \n",
              "0  0.150     15  \n",
              "1  0.070      7  \n",
              "2  0.210      9  \n",
              "3  0.155     10  \n",
              "4  0.055      7  "
            ],
            "text/html": [
              "\n",
              "  <div id=\"df-22119da5-6000-4c3a-b5fe-576d56d94441\">\n",
              "    <div class=\"colab-df-container\">\n",
              "      <div>\n",
              "<style scoped>\n",
              "    .dataframe tbody tr th:only-of-type {\n",
              "        vertical-align: middle;\n",
              "    }\n",
              "\n",
              "    .dataframe tbody tr th {\n",
              "        vertical-align: top;\n",
              "    }\n",
              "\n",
              "    .dataframe thead th {\n",
              "        text-align: right;\n",
              "    }\n",
              "</style>\n",
              "<table border=\"1\" class=\"dataframe\">\n",
              "  <thead>\n",
              "    <tr style=\"text-align: right;\">\n",
              "      <th></th>\n",
              "      <th>Sex</th>\n",
              "      <th>Lenght</th>\n",
              "      <th>Diameter</th>\n",
              "      <th>Height</th>\n",
              "      <th>Whole_weight</th>\n",
              "      <th>Shucked_weight</th>\n",
              "      <th>Viscera_weight</th>\n",
              "      <th>Shell</th>\n",
              "      <th>Rings</th>\n",
              "    </tr>\n",
              "  </thead>\n",
              "  <tbody>\n",
              "    <tr>\n",
              "      <th>0</th>\n",
              "      <td>M</td>\n",
              "      <td>0.455</td>\n",
              "      <td>0.365</td>\n",
              "      <td>0.095</td>\n",
              "      <td>0.5140</td>\n",
              "      <td>0.2245</td>\n",
              "      <td>0.1010</td>\n",
              "      <td>0.150</td>\n",
              "      <td>15</td>\n",
              "    </tr>\n",
              "    <tr>\n",
              "      <th>1</th>\n",
              "      <td>M</td>\n",
              "      <td>0.350</td>\n",
              "      <td>0.265</td>\n",
              "      <td>0.090</td>\n",
              "      <td>0.2255</td>\n",
              "      <td>0.0995</td>\n",
              "      <td>0.0485</td>\n",
              "      <td>0.070</td>\n",
              "      <td>7</td>\n",
              "    </tr>\n",
              "    <tr>\n",
              "      <th>2</th>\n",
              "      <td>F</td>\n",
              "      <td>0.530</td>\n",
              "      <td>0.420</td>\n",
              "      <td>0.135</td>\n",
              "      <td>0.6770</td>\n",
              "      <td>0.2565</td>\n",
              "      <td>0.1415</td>\n",
              "      <td>0.210</td>\n",
              "      <td>9</td>\n",
              "    </tr>\n",
              "    <tr>\n",
              "      <th>3</th>\n",
              "      <td>M</td>\n",
              "      <td>0.440</td>\n",
              "      <td>0.365</td>\n",
              "      <td>0.125</td>\n",
              "      <td>0.5160</td>\n",
              "      <td>0.2155</td>\n",
              "      <td>0.1140</td>\n",
              "      <td>0.155</td>\n",
              "      <td>10</td>\n",
              "    </tr>\n",
              "    <tr>\n",
              "      <th>4</th>\n",
              "      <td>I</td>\n",
              "      <td>0.330</td>\n",
              "      <td>0.255</td>\n",
              "      <td>0.080</td>\n",
              "      <td>0.2050</td>\n",
              "      <td>0.0895</td>\n",
              "      <td>0.0395</td>\n",
              "      <td>0.055</td>\n",
              "      <td>7</td>\n",
              "    </tr>\n",
              "  </tbody>\n",
              "</table>\n",
              "</div>\n",
              "      <button class=\"colab-df-convert\" onclick=\"convertToInteractive('df-22119da5-6000-4c3a-b5fe-576d56d94441')\"\n",
              "              title=\"Convert this dataframe to an interactive table.\"\n",
              "              style=\"display:none;\">\n",
              "        \n",
              "  <svg xmlns=\"http://www.w3.org/2000/svg\" height=\"24px\"viewBox=\"0 0 24 24\"\n",
              "       width=\"24px\">\n",
              "    <path d=\"M0 0h24v24H0V0z\" fill=\"none\"/>\n",
              "    <path d=\"M18.56 5.44l.94 2.06.94-2.06 2.06-.94-2.06-.94-.94-2.06-.94 2.06-2.06.94zm-11 1L8.5 8.5l.94-2.06 2.06-.94-2.06-.94L8.5 2.5l-.94 2.06-2.06.94zm10 10l.94 2.06.94-2.06 2.06-.94-2.06-.94-.94-2.06-.94 2.06-2.06.94z\"/><path d=\"M17.41 7.96l-1.37-1.37c-.4-.4-.92-.59-1.43-.59-.52 0-1.04.2-1.43.59L10.3 9.45l-7.72 7.72c-.78.78-.78 2.05 0 2.83L4 21.41c.39.39.9.59 1.41.59.51 0 1.02-.2 1.41-.59l7.78-7.78 2.81-2.81c.8-.78.8-2.07 0-2.86zM5.41 20L4 18.59l7.72-7.72 1.47 1.35L5.41 20z\"/>\n",
              "  </svg>\n",
              "      </button>\n",
              "      \n",
              "  <style>\n",
              "    .colab-df-container {\n",
              "      display:flex;\n",
              "      flex-wrap:wrap;\n",
              "      gap: 12px;\n",
              "    }\n",
              "\n",
              "    .colab-df-convert {\n",
              "      background-color: #E8F0FE;\n",
              "      border: none;\n",
              "      border-radius: 50%;\n",
              "      cursor: pointer;\n",
              "      display: none;\n",
              "      fill: #1967D2;\n",
              "      height: 32px;\n",
              "      padding: 0 0 0 0;\n",
              "      width: 32px;\n",
              "    }\n",
              "\n",
              "    .colab-df-convert:hover {\n",
              "      background-color: #E2EBFA;\n",
              "      box-shadow: 0px 1px 2px rgba(60, 64, 67, 0.3), 0px 1px 3px 1px rgba(60, 64, 67, 0.15);\n",
              "      fill: #174EA6;\n",
              "    }\n",
              "\n",
              "    [theme=dark] .colab-df-convert {\n",
              "      background-color: #3B4455;\n",
              "      fill: #D2E3FC;\n",
              "    }\n",
              "\n",
              "    [theme=dark] .colab-df-convert:hover {\n",
              "      background-color: #434B5C;\n",
              "      box-shadow: 0px 1px 3px 1px rgba(0, 0, 0, 0.15);\n",
              "      filter: drop-shadow(0px 1px 2px rgba(0, 0, 0, 0.3));\n",
              "      fill: #FFFFFF;\n",
              "    }\n",
              "  </style>\n",
              "\n",
              "      <script>\n",
              "        const buttonEl =\n",
              "          document.querySelector('#df-22119da5-6000-4c3a-b5fe-576d56d94441 button.colab-df-convert');\n",
              "        buttonEl.style.display =\n",
              "          google.colab.kernel.accessAllowed ? 'block' : 'none';\n",
              "\n",
              "        async function convertToInteractive(key) {\n",
              "          const element = document.querySelector('#df-22119da5-6000-4c3a-b5fe-576d56d94441');\n",
              "          const dataTable =\n",
              "            await google.colab.kernel.invokeFunction('convertToInteractive',\n",
              "                                                     [key], {});\n",
              "          if (!dataTable) return;\n",
              "\n",
              "          const docLinkHtml = 'Like what you see? Visit the ' +\n",
              "            '<a target=\"_blank\" href=https://colab.research.google.com/notebooks/data_table.ipynb>data table notebook</a>'\n",
              "            + ' to learn more about interactive tables.';\n",
              "          element.innerHTML = '';\n",
              "          dataTable['output_type'] = 'display_data';\n",
              "          await google.colab.output.renderOutput(dataTable, element);\n",
              "          const docLink = document.createElement('div');\n",
              "          docLink.innerHTML = docLinkHtml;\n",
              "          element.appendChild(docLink);\n",
              "        }\n",
              "      </script>\n",
              "    </div>\n",
              "  </div>\n",
              "  "
            ]
          },
          "metadata": {},
          "execution_count": 78
        }
      ]
    },
    {
      "cell_type": "code",
      "source": [
        "from pandas.core.window.ewm import get_center_of_mass\n",
        "#Cambiamos las variables texto a numericas - categoricas\n",
        "generoM=df.loc[:,\"Sex\"]==\"M\"\n",
        "generoF=df.loc[:,\"Sex\"]==\"F\"\n",
        "generoI=df.loc[:,\"Sex\"]==\"I\"\n",
        "df.loc[generoM,[\"Sex\"]]=0\n",
        "df.loc[generoF,[\"Sex\"]]=1\n",
        "df.loc[generoI,[\"Sex\"]]=2\n",
        "df[\"Sex\"] = df[\"Sex\"].astype('float')\n",
        "df[\"Sex\"]"
      ],
      "metadata": {
        "colab": {
          "base_uri": "https://localhost:8080/"
        },
        "id": "XAIEzhk2qkIS",
        "outputId": "db263911-78d9-4378-f0f0-200c0b5e8527"
      },
      "execution_count": null,
      "outputs": [
        {
          "output_type": "execute_result",
          "data": {
            "text/plain": [
              "0       0.0\n",
              "1       0.0\n",
              "2       1.0\n",
              "3       0.0\n",
              "4       2.0\n",
              "       ... \n",
              "4172    1.0\n",
              "4173    0.0\n",
              "4174    0.0\n",
              "4175    1.0\n",
              "4176    0.0\n",
              "Name: Sex, Length: 4177, dtype: float64"
            ]
          },
          "metadata": {},
          "execution_count": 79
        }
      ]
    },
    {
      "cell_type": "markdown",
      "source": [
        "#Features y Values"
      ],
      "metadata": {
        "id": "RoaeNXNv9K_g"
      }
    },
    {
      "cell_type": "code",
      "source": [
        "X = df.loc[:, ['Sex',\t'Lenght',\t'Diameter',\t'Height',\t'Whole_weight',\t'Shucked_weight',\t'Viscera_weight',\t'Shell']].values\n",
        "y=df.loc[:, 'Rings'].values\n",
        "y.shape"
      ],
      "metadata": {
        "colab": {
          "base_uri": "https://localhost:8080/"
        },
        "id": "GvdhVjxTfFPZ",
        "outputId": "8222ce8b-f780-41c6-935d-890a40170168"
      },
      "execution_count": null,
      "outputs": [
        {
          "output_type": "execute_result",
          "data": {
            "text/plain": [
              "(4177,)"
            ]
          },
          "metadata": {},
          "execution_count": 80
        }
      ]
    },
    {
      "cell_type": "code",
      "source": [
        "#partiremos encontrando los resultados con division\n",
        "from sklearn.model_selection import train_test_split\n",
        "X_train, X_test, y_train, y_test = train_test_split(X, y, random_state=3)"
      ],
      "metadata": {
        "id": "n2aRx5Lrwm_x"
      },
      "execution_count": null,
      "outputs": []
    },
    {
      "cell_type": "code",
      "source": [
        "from sklearn.preprocessing import StandardScaler\n",
        "scaler = StandardScaler()"
      ],
      "metadata": {
        "id": "M8FQYJlipvGZ"
      },
      "execution_count": null,
      "outputs": []
    },
    {
      "cell_type": "code",
      "source": [
        "# Estandarizar datos con division\n",
        "scaler = StandardScaler()\n",
        "scaler.fit(X_train)\n",
        "X_train = scaler.transform(X_train)\n",
        "X_test = scaler.transform(X_test)\n",
        "\n"
      ],
      "metadata": {
        "id": "Ql1BVwtwp1QA"
      },
      "execution_count": null,
      "outputs": []
    },
    {
      "cell_type": "markdown",
      "source": [
        "#KNN"
      ],
      "metadata": {
        "id": "Kxcpkadl9a49"
      }
    },
    {
      "cell_type": "code",
      "source": [
        "from sklearn.neighbors import KNeighborsRegressor\n"
      ],
      "metadata": {
        "id": "z1XTPWk01lbp"
      },
      "execution_count": null,
      "outputs": []
    },
    {
      "cell_type": "code",
      "source": [
        "for K in range(20):\n",
        "    K = K+1\n",
        "    knn = neighbors.KNeighborsRegressor(n_neighbors = K)\n",
        "    knn.fit(X_train, y_train)\n",
        "    predictions = knn.predict(X_test)\n",
        "    print('Score for k= ' , K , 'is:', knn.score(X_test, y_test))"
      ],
      "metadata": {
        "colab": {
          "base_uri": "https://localhost:8080/"
        },
        "id": "Avaw_uBa1tTH",
        "outputId": "74d48466-3f1b-441f-93b6-97c4d6919d00"
      },
      "execution_count": null,
      "outputs": [
        {
          "output_type": "stream",
          "name": "stdout",
          "text": [
            "Score for k=  1 is: 0.13038847871797632\n",
            "Score for k=  2 is: 0.36161303307631576\n",
            "Score for k=  3 is: 0.43460776966160897\n",
            "Score for k=  4 is: 0.46924387047018745\n",
            "Score for k=  5 is: 0.47372809336257315\n",
            "Score for k=  6 is: 0.5039127375643635\n",
            "Score for k=  7 is: 0.5079649414875966\n",
            "Score for k=  8 is: 0.5064024410368816\n",
            "Score for k=  9 is: 0.5136178897507129\n",
            "Score for k=  10 is: 0.5164280910264671\n",
            "Score for k=  11 is: 0.5172792157222894\n",
            "Score for k=  12 is: 0.5172778205354969\n",
            "Score for k=  13 is: 0.5159787557489786\n",
            "Score for k=  14 is: 0.5114586939345533\n",
            "Score for k=  15 is: 0.5125352283580666\n",
            "Score for k=  16 is: 0.5112325744009262\n",
            "Score for k=  17 is: 0.5130496757036114\n",
            "Score for k=  18 is: 0.5117443546959499\n",
            "Score for k=  19 is: 0.5123138821738613\n",
            "Score for k=  20 is: 0.5087346241529407\n"
          ]
        }
      ]
    },
    {
      "cell_type": "code",
      "source": [
        "#ahora lo haremos sin division\n",
        "scaler2 = StandardScaler()"
      ],
      "metadata": {
        "id": "b8qpZfW91MXs"
      },
      "execution_count": null,
      "outputs": []
    },
    {
      "cell_type": "code",
      "source": [
        "# Estandarizar datos\n",
        "X_copy= X\n",
        "scaler = StandardScaler()\n",
        "scaler.fit(X_copy)\n",
        "X_copy = scaler.transform(X_copy)\n"
      ],
      "metadata": {
        "id": "0Vrft-1K1jbH"
      },
      "execution_count": null,
      "outputs": []
    },
    {
      "cell_type": "code",
      "source": [
        "knn2 = KNeighborsRegressor(n_neighbors=15)\n",
        "\n"
      ],
      "metadata": {
        "id": "-K7W6s8414Rl"
      },
      "execution_count": null,
      "outputs": []
    },
    {
      "cell_type": "code",
      "source": [
        "knn2.fit(X_copy, y)"
      ],
      "metadata": {
        "colab": {
          "base_uri": "https://localhost:8080/"
        },
        "id": "GCR6SsSG2MW6",
        "outputId": "7164367d-b9aa-4015-8c69-a9e555169682"
      },
      "execution_count": null,
      "outputs": [
        {
          "output_type": "execute_result",
          "data": {
            "text/plain": [
              "KNeighborsRegressor(n_neighbors=15)"
            ]
          },
          "metadata": {},
          "execution_count": 64
        }
      ]
    },
    {
      "cell_type": "code",
      "source": [
        "predictions2 = knn2.predict(X_copy)"
      ],
      "metadata": {
        "id": "qKSOzoIX05hV"
      },
      "execution_count": null,
      "outputs": []
    },
    {
      "cell_type": "code",
      "source": [
        "predictions2"
      ],
      "metadata": {
        "colab": {
          "base_uri": "https://localhost:8080/"
        },
        "id": "5vtIAVXH6nsP",
        "outputId": "c2059eb1-9372-4e11-e019-c16c38098830"
      },
      "execution_count": null,
      "outputs": [
        {
          "output_type": "execute_result",
          "data": {
            "text/plain": [
              "array([ 8.93333333,  8.73333333, 10.2       , ..., 10.6       ,\n",
              "        9.66666667, 11.2       ])"
            ]
          },
          "metadata": {},
          "execution_count": 66
        }
      ]
    },
    {
      "cell_type": "code",
      "source": [
        "score2 = knn2.score(X_test, y_test)\n",
        "score2"
      ],
      "metadata": {
        "colab": {
          "base_uri": "https://localhost:8080/"
        },
        "id": "HZd7P-Lz6p-F",
        "outputId": "bf9ccf01-0af8-48f7-f37b-58022000f957"
      },
      "execution_count": null,
      "outputs": [
        {
          "output_type": "execute_result",
          "data": {
            "text/plain": [
              "0.5828449530393621"
            ]
          },
          "metadata": {},
          "execution_count": 67
        }
      ]
    },
    {
      "cell_type": "code",
      "source": [
        "#Al hacer el train-test, el modelo por logica tiene que ser menos bueno para predecir que si le pasamos todos los datos \n",
        "#ya que dentro de estos está la info precisa de lo que predeciremos.\n",
        "\n"
      ],
      "metadata": {
        "id": "tERkEfdp6v4J"
      },
      "execution_count": null,
      "outputs": []
    },
    {
      "cell_type": "markdown",
      "source": [
        "#Regresion lineal con y sin split"
      ],
      "metadata": {
        "id": "PRSCYHNW8hsV"
      }
    },
    {
      "cell_type": "code",
      "source": [
        "from sklearn.linear_model import LinearRegression\n",
        "# Hacer una instancia de regresión lineal\n",
        "reg = LinearRegression(fit_intercept=True)\n"
      ],
      "metadata": {
        "id": "O0-V1FDR8X8V"
      },
      "execution_count": null,
      "outputs": []
    },
    {
      "cell_type": "code",
      "source": [
        "reg.fit(X,y)\n"
      ],
      "metadata": {
        "colab": {
          "base_uri": "https://localhost:8080/"
        },
        "id": "Zy7roNAD9xUi",
        "outputId": "f08b494d-e394-4b4c-e7f8-8ccd7ff2b799"
      },
      "execution_count": null,
      "outputs": [
        {
          "output_type": "execute_result",
          "data": {
            "text/plain": [
              "LinearRegression()"
            ]
          },
          "metadata": {},
          "execution_count": 44
        }
      ]
    },
    {
      "cell_type": "code",
      "source": [
        "reg.predict(X)"
      ],
      "metadata": {
        "colab": {
          "base_uri": "https://localhost:8080/"
        },
        "id": "LywcseTE-Ohm",
        "outputId": "0eae7f8a-1c89-49ed-8373-a86e4b1d5870"
      },
      "execution_count": null,
      "outputs": [
        {
          "output_type": "execute_result",
          "data": {
            "text/plain": [
              "array([ 9.2423098 ,  7.81022316, 10.84388028, ..., 11.10439683,\n",
              "        9.51353803, 11.14402922])"
            ]
          },
          "metadata": {},
          "execution_count": 45
        }
      ]
    },
    {
      "cell_type": "code",
      "source": [
        "y"
      ],
      "metadata": {
        "colab": {
          "base_uri": "https://localhost:8080/"
        },
        "id": "-GfZzRSx-UrP",
        "outputId": "b47e5ef2-8afd-4bb3-e320-3a0f45fa0391"
      },
      "execution_count": null,
      "outputs": [
        {
          "output_type": "execute_result",
          "data": {
            "text/plain": [
              "array([15,  7,  9, ...,  9, 10, 12])"
            ]
          },
          "metadata": {},
          "execution_count": 47
        }
      ]
    },
    {
      "cell_type": "code",
      "source": [
        "score_reg = reg.score(X, y)\n",
        "score_reg"
      ],
      "metadata": {
        "colab": {
          "base_uri": "https://localhost:8080/"
        },
        "id": "ZiSgrXUK-edM",
        "outputId": "bded8f3b-1888-4441-f658-d505c507153b"
      },
      "execution_count": null,
      "outputs": [
        {
          "output_type": "execute_result",
          "data": {
            "text/plain": [
              "0.5353445764938826"
            ]
          },
          "metadata": {},
          "execution_count": 49
        }
      ]
    },
    {
      "cell_type": "code",
      "source": [
        "#ahora con train-test\n",
        "reg2 = LinearRegression(fit_intercept=True)"
      ],
      "metadata": {
        "id": "bM7rX8yo-kQT"
      },
      "execution_count": null,
      "outputs": []
    },
    {
      "cell_type": "code",
      "source": [
        "reg2.fit(X_train,y_train)"
      ],
      "metadata": {
        "colab": {
          "base_uri": "https://localhost:8080/"
        },
        "id": "acFNBDsf-4NQ",
        "outputId": "ca129b27-8576-4fa8-be7b-92f97bc4947a"
      },
      "execution_count": null,
      "outputs": [
        {
          "output_type": "execute_result",
          "data": {
            "text/plain": [
              "LinearRegression()"
            ]
          },
          "metadata": {},
          "execution_count": 51
        }
      ]
    },
    {
      "cell_type": "code",
      "source": [
        "reg.predict(X_test)"
      ],
      "metadata": {
        "colab": {
          "base_uri": "https://localhost:8080/"
        },
        "id": "sPQ-tmaw-_kc",
        "outputId": "a2596fef-d905-4cf9-e1c2-c9c24e5d3fe2"
      },
      "execution_count": null,
      "outputs": [
        {
          "output_type": "execute_result",
          "data": {
            "text/plain": [
              "array([ 4.13861168, 14.71954596, -1.77761848, ..., -6.11795471,\n",
              "       -4.69707214, 16.23916563])"
            ]
          },
          "metadata": {},
          "execution_count": 52
        }
      ]
    },
    {
      "cell_type": "code",
      "source": [
        "score_reg2 = reg2.score(X_test, y_test)\n",
        "score_reg2"
      ],
      "metadata": {
        "colab": {
          "base_uri": "https://localhost:8080/"
        },
        "id": "5ECZMMbX-_sS",
        "outputId": "68759e7e-acd7-4544-a8bc-0c78fd3f700b"
      },
      "execution_count": null,
      "outputs": [
        {
          "output_type": "execute_result",
          "data": {
            "text/plain": [
              "0.5028540530581911"
            ]
          },
          "metadata": {},
          "execution_count": 54
        }
      ]
    },
    {
      "cell_type": "code",
      "source": [
        "##¿Cuál de KNN o regresión lineal pareció un mejor modelo cuando no usaste la división entrenar probar?\n",
        "#Cuando no use la division me funciono mejor el KNN\n",
        "##¿Cuál de KNN o regresión lineal pareció un mejor modelo cuando usaste la división entrenar probar?\n",
        "#para diferentes valores de k me dio muy diferentes resultados y algunos tambien gano knn\n",
        "##¿Hubo alguna ventaja en la regresión lineal en términos de la cantidad de código que tenías que escribir?\n",
        "#Si, bastante menos\n",
        "##¿Hay alguna forma de mostrarle a alguien cuál de los dos modelos fue más efectivo?\n",
        "#usando los datos de train es mas efectivo el modelo porque se prueba con datos no vistos con anterioridad\n",
        "##¿Crees que podrías haber mejorado KNN para mejorar la eficacia del modelo?\n",
        "#Creo que si hay bastantes cosas por hacer como seleccionar mejor la data a usar, cambiar lso pesos especificos entre otros.\n"
      ],
      "metadata": {
        "id": "Y7XfB1kl_Uz8"
      },
      "execution_count": null,
      "outputs": []
    }
  ]
}